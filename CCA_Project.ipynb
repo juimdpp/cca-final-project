{
  "nbformat": 4,
  "nbformat_minor": 5,
  "metadata": {
    "kernelspec": {
      "display_name": "Python 3",
      "language": "python",
      "name": "python3"
    },
    "language_info": {
      "codemirror_mode": {
        "name": "ipython",
        "version": 3
      },
      "file_extension": ".py",
      "mimetype": "text/x-python",
      "name": "python",
      "nbconvert_exporter": "python",
      "pygments_lexer": "ipython3",
      "version": "3.9.4"
    },
    "colab": {
      "name": "CCA Project.ipynb",
      "provenance": [],
      "include_colab_link": true
    }
  },
  "cells": [
    {
      "cell_type": "markdown",
      "metadata": {
        "id": "view-in-github",
        "colab_type": "text"
      },
      "source": [
        "<a href=\"https://colab.research.google.com/github/juimdpp/cca-final-project/blob/main/CCA_Project.ipynb\" target=\"_parent\"><img src=\"https://colab.research.google.com/assets/colab-badge.svg\" alt=\"Open In Colab\"/></a>"
      ]
    },
    {
      "cell_type": "markdown",
      "metadata": {
        "id": "1932f228"
      },
      "source": [
        "# CCA Project: Topic 1"
      ],
      "id": "1932f228"
    },
    {
      "cell_type": "markdown",
      "metadata": {
        "id": "e5270eaf"
      },
      "source": [
        "## 1. Load Datasets"
      ],
      "id": "e5270eaf"
    },
    {
      "cell_type": "code",
      "metadata": {
        "id": "804e0cf4"
      },
      "source": [
        "import pandas as pd\n",
        "import matplotlib.pyplot as plt\n",
        "import numpy as np\n",
        "from sklearn import datasets, linear_model\n",
        "from sklearn.metrics import mean_squared_error, r2_score\n",
        "\n",
        "# Load breast cancer datasets\n",
        "cancer = datasets.load_breast_cancer()\n",
        "# cancer"
      ],
      "id": "804e0cf4",
      "execution_count": 4,
      "outputs": []
    },
    {
      "cell_type": "code",
      "metadata": {
        "id": "8e645310",
        "colab": {
          "base_uri": "https://localhost:8080/",
          "height": 275
        },
        "outputId": "d54913d2-6fcd-4cdd-f989-6186d29eaa08"
      },
      "source": [
        "# Load dataset into pandas dataframe\n",
        "df = pd.DataFrame(cancer.data, columns = cancer.feature_names)\n",
        "print(\"No. of samples:\", len(cancer.data), \"\\tNo. of features:\", len(cancer.feature_names))\n",
        "# print(\"Features: \", df.columns)\n",
        "df.head(5)"
      ],
      "id": "8e645310",
      "execution_count": 7,
      "outputs": [
        {
          "output_type": "stream",
          "text": [
            "No. of samples: 569 \tNo. of features: 30\n"
          ],
          "name": "stdout"
        },
        {
          "output_type": "execute_result",
          "data": {
            "text/html": [
              "<div>\n",
              "<style scoped>\n",
              "    .dataframe tbody tr th:only-of-type {\n",
              "        vertical-align: middle;\n",
              "    }\n",
              "\n",
              "    .dataframe tbody tr th {\n",
              "        vertical-align: top;\n",
              "    }\n",
              "\n",
              "    .dataframe thead th {\n",
              "        text-align: right;\n",
              "    }\n",
              "</style>\n",
              "<table border=\"1\" class=\"dataframe\">\n",
              "  <thead>\n",
              "    <tr style=\"text-align: right;\">\n",
              "      <th></th>\n",
              "      <th>mean radius</th>\n",
              "      <th>mean texture</th>\n",
              "      <th>mean perimeter</th>\n",
              "      <th>mean area</th>\n",
              "      <th>mean smoothness</th>\n",
              "      <th>mean compactness</th>\n",
              "      <th>mean concavity</th>\n",
              "      <th>mean concave points</th>\n",
              "      <th>mean symmetry</th>\n",
              "      <th>mean fractal dimension</th>\n",
              "      <th>radius error</th>\n",
              "      <th>texture error</th>\n",
              "      <th>perimeter error</th>\n",
              "      <th>area error</th>\n",
              "      <th>smoothness error</th>\n",
              "      <th>compactness error</th>\n",
              "      <th>concavity error</th>\n",
              "      <th>concave points error</th>\n",
              "      <th>symmetry error</th>\n",
              "      <th>fractal dimension error</th>\n",
              "      <th>worst radius</th>\n",
              "      <th>worst texture</th>\n",
              "      <th>worst perimeter</th>\n",
              "      <th>worst area</th>\n",
              "      <th>worst smoothness</th>\n",
              "      <th>worst compactness</th>\n",
              "      <th>worst concavity</th>\n",
              "      <th>worst concave points</th>\n",
              "      <th>worst symmetry</th>\n",
              "      <th>worst fractal dimension</th>\n",
              "    </tr>\n",
              "  </thead>\n",
              "  <tbody>\n",
              "    <tr>\n",
              "      <th>0</th>\n",
              "      <td>17.99</td>\n",
              "      <td>10.38</td>\n",
              "      <td>122.80</td>\n",
              "      <td>1001.0</td>\n",
              "      <td>0.11840</td>\n",
              "      <td>0.27760</td>\n",
              "      <td>0.3001</td>\n",
              "      <td>0.14710</td>\n",
              "      <td>0.2419</td>\n",
              "      <td>0.07871</td>\n",
              "      <td>1.0950</td>\n",
              "      <td>0.9053</td>\n",
              "      <td>8.589</td>\n",
              "      <td>153.40</td>\n",
              "      <td>0.006399</td>\n",
              "      <td>0.04904</td>\n",
              "      <td>0.05373</td>\n",
              "      <td>0.01587</td>\n",
              "      <td>0.03003</td>\n",
              "      <td>0.006193</td>\n",
              "      <td>25.38</td>\n",
              "      <td>17.33</td>\n",
              "      <td>184.60</td>\n",
              "      <td>2019.0</td>\n",
              "      <td>0.1622</td>\n",
              "      <td>0.6656</td>\n",
              "      <td>0.7119</td>\n",
              "      <td>0.2654</td>\n",
              "      <td>0.4601</td>\n",
              "      <td>0.11890</td>\n",
              "    </tr>\n",
              "    <tr>\n",
              "      <th>1</th>\n",
              "      <td>20.57</td>\n",
              "      <td>17.77</td>\n",
              "      <td>132.90</td>\n",
              "      <td>1326.0</td>\n",
              "      <td>0.08474</td>\n",
              "      <td>0.07864</td>\n",
              "      <td>0.0869</td>\n",
              "      <td>0.07017</td>\n",
              "      <td>0.1812</td>\n",
              "      <td>0.05667</td>\n",
              "      <td>0.5435</td>\n",
              "      <td>0.7339</td>\n",
              "      <td>3.398</td>\n",
              "      <td>74.08</td>\n",
              "      <td>0.005225</td>\n",
              "      <td>0.01308</td>\n",
              "      <td>0.01860</td>\n",
              "      <td>0.01340</td>\n",
              "      <td>0.01389</td>\n",
              "      <td>0.003532</td>\n",
              "      <td>24.99</td>\n",
              "      <td>23.41</td>\n",
              "      <td>158.80</td>\n",
              "      <td>1956.0</td>\n",
              "      <td>0.1238</td>\n",
              "      <td>0.1866</td>\n",
              "      <td>0.2416</td>\n",
              "      <td>0.1860</td>\n",
              "      <td>0.2750</td>\n",
              "      <td>0.08902</td>\n",
              "    </tr>\n",
              "    <tr>\n",
              "      <th>2</th>\n",
              "      <td>19.69</td>\n",
              "      <td>21.25</td>\n",
              "      <td>130.00</td>\n",
              "      <td>1203.0</td>\n",
              "      <td>0.10960</td>\n",
              "      <td>0.15990</td>\n",
              "      <td>0.1974</td>\n",
              "      <td>0.12790</td>\n",
              "      <td>0.2069</td>\n",
              "      <td>0.05999</td>\n",
              "      <td>0.7456</td>\n",
              "      <td>0.7869</td>\n",
              "      <td>4.585</td>\n",
              "      <td>94.03</td>\n",
              "      <td>0.006150</td>\n",
              "      <td>0.04006</td>\n",
              "      <td>0.03832</td>\n",
              "      <td>0.02058</td>\n",
              "      <td>0.02250</td>\n",
              "      <td>0.004571</td>\n",
              "      <td>23.57</td>\n",
              "      <td>25.53</td>\n",
              "      <td>152.50</td>\n",
              "      <td>1709.0</td>\n",
              "      <td>0.1444</td>\n",
              "      <td>0.4245</td>\n",
              "      <td>0.4504</td>\n",
              "      <td>0.2430</td>\n",
              "      <td>0.3613</td>\n",
              "      <td>0.08758</td>\n",
              "    </tr>\n",
              "    <tr>\n",
              "      <th>3</th>\n",
              "      <td>11.42</td>\n",
              "      <td>20.38</td>\n",
              "      <td>77.58</td>\n",
              "      <td>386.1</td>\n",
              "      <td>0.14250</td>\n",
              "      <td>0.28390</td>\n",
              "      <td>0.2414</td>\n",
              "      <td>0.10520</td>\n",
              "      <td>0.2597</td>\n",
              "      <td>0.09744</td>\n",
              "      <td>0.4956</td>\n",
              "      <td>1.1560</td>\n",
              "      <td>3.445</td>\n",
              "      <td>27.23</td>\n",
              "      <td>0.009110</td>\n",
              "      <td>0.07458</td>\n",
              "      <td>0.05661</td>\n",
              "      <td>0.01867</td>\n",
              "      <td>0.05963</td>\n",
              "      <td>0.009208</td>\n",
              "      <td>14.91</td>\n",
              "      <td>26.50</td>\n",
              "      <td>98.87</td>\n",
              "      <td>567.7</td>\n",
              "      <td>0.2098</td>\n",
              "      <td>0.8663</td>\n",
              "      <td>0.6869</td>\n",
              "      <td>0.2575</td>\n",
              "      <td>0.6638</td>\n",
              "      <td>0.17300</td>\n",
              "    </tr>\n",
              "    <tr>\n",
              "      <th>4</th>\n",
              "      <td>20.29</td>\n",
              "      <td>14.34</td>\n",
              "      <td>135.10</td>\n",
              "      <td>1297.0</td>\n",
              "      <td>0.10030</td>\n",
              "      <td>0.13280</td>\n",
              "      <td>0.1980</td>\n",
              "      <td>0.10430</td>\n",
              "      <td>0.1809</td>\n",
              "      <td>0.05883</td>\n",
              "      <td>0.7572</td>\n",
              "      <td>0.7813</td>\n",
              "      <td>5.438</td>\n",
              "      <td>94.44</td>\n",
              "      <td>0.011490</td>\n",
              "      <td>0.02461</td>\n",
              "      <td>0.05688</td>\n",
              "      <td>0.01885</td>\n",
              "      <td>0.01756</td>\n",
              "      <td>0.005115</td>\n",
              "      <td>22.54</td>\n",
              "      <td>16.67</td>\n",
              "      <td>152.20</td>\n",
              "      <td>1575.0</td>\n",
              "      <td>0.1374</td>\n",
              "      <td>0.2050</td>\n",
              "      <td>0.4000</td>\n",
              "      <td>0.1625</td>\n",
              "      <td>0.2364</td>\n",
              "      <td>0.07678</td>\n",
              "    </tr>\n",
              "  </tbody>\n",
              "</table>\n",
              "</div>"
            ],
            "text/plain": [
              "   mean radius  mean texture  ...  worst symmetry  worst fractal dimension\n",
              "0        17.99         10.38  ...          0.4601                  0.11890\n",
              "1        20.57         17.77  ...          0.2750                  0.08902\n",
              "2        19.69         21.25  ...          0.3613                  0.08758\n",
              "3        11.42         20.38  ...          0.6638                  0.17300\n",
              "4        20.29         14.34  ...          0.2364                  0.07678\n",
              "\n",
              "[5 rows x 30 columns]"
            ]
          },
          "metadata": {
            "tags": []
          },
          "execution_count": 7
        }
      ]
    },
    {
      "cell_type": "markdown",
      "metadata": {
        "id": "9QHqa4zDccKM"
      },
      "source": [
        "### Feature Correlation\n",
        "Analyze the correlation between features by separating the feature columns and plotting graphs to oberve the relationship between individual features."
      ],
      "id": "9QHqa4zDccKM"
    },
    {
      "cell_type": "code",
      "metadata": {
        "id": "7rOyUO5NccY_"
      },
      "source": [
        "# print(df.columns) # Show feature list\n",
        "\n",
        "# Separate feature columns into mean, error and worst\n",
        "feature_mean = list(df.columns[0:10])\n",
        "feature_error = list(df.columns[10:20])\n",
        "feature_worst = list(df.columns[20:])"
      ],
      "id": "7rOyUO5NccY_",
      "execution_count": 10,
      "outputs": []
    },
    {
      "cell_type": "markdown",
      "metadata": {
        "id": "3dFtOtXycq22"
      },
      "source": [
        "### Correlation Plots"
      ],
      "id": "3dFtOtXycq22"
    },
    {
      "cell_type": "code",
      "metadata": {
        "id": "YsrVp8Rucf-N"
      },
      "source": [
        "import seaborn as sns\n",
        "sns.set(rc={'figure.figsize':(11.7,8.27)})\n",
        "\n",
        "# Plot feature correlations using heatmap\n",
        "def corr_heatmap(feature_list, feature_name):\n",
        "  mean_corr = df[feature_list].corr()\n",
        "  fig=plt.figure(figsize=(8,8))\n",
        "  plt.tight_layout()\n",
        "  g = sns.heatmap(mean_corr, cmap='coolwarm', vmin=0, vmax=1)\n",
        "  g.set_xticklabels(g.get_xticklabels(), rotation=70, fontsize=8)\n",
        "  g.set_yticklabels(g.get_yticklabels(), rotation=15, fontsize=8)\n",
        "  plt.title(f\"Correlation Plot of {feature_name} Features\")\n",
        "  plt.savefig(f\"Corr_{feature_name}_Features.png\", dpi=50)\n",
        "  plt.show()\n",
        "\n",
        "# Show heatmaps for feature types\n",
        "plt_mean = corr_heatmap(feature_mean, 'Mean')\n",
        "# plt_error = corr_heatmap(feature_error, 'Error')\n",
        "# plt_worst = corr_heatmap(feature_worst, 'Worst')\n",
        "\n",
        "# Strong correlation between perimeter, area and radius features"
      ],
      "id": "YsrVp8Rucf-N",
      "execution_count": null,
      "outputs": []
    },
    {
      "cell_type": "markdown",
      "metadata": {
        "id": "2e44e6d4"
      },
      "source": [
        "## 2. Split Data into Training Sets"
      ],
      "id": "2e44e6d4"
    },
    {
      "cell_type": "code",
      "metadata": {
        "id": "t0HyFaZCCmBT"
      },
      "source": [
        "# Global variables\n",
        "num_train = 20 # length of training set"
      ],
      "id": "t0HyFaZCCmBT",
      "execution_count": 12,
      "outputs": []
    },
    {
      "cell_type": "code",
      "metadata": {
        "id": "28ed30ed",
        "colab": {
          "base_uri": "https://localhost:8080/"
        },
        "outputId": "f6435f85-ef4c-41c5-ed9a-c3380180528a"
      },
      "source": [
        "cancer_x = cancer.data\n",
        "cancer_y = cancer.target\n",
        "\n",
        "# split data into training sets\n",
        "cancer_x_train = cancer_x[:-num_train]\n",
        "cancer_y_train = cancer_y[:-num_train]\n",
        "\n",
        "# use last 20 samples as test sets \n",
        "cancer_x_test = cancer_x[-num_train:]\n",
        "cancer_y_test = cancer_y[-num_train:]\n",
        "\n",
        "print(\"Training set: \", cancer_x_train.shape)\n",
        "print(\"Test set: \", cancer_x_test.shape)"
      ],
      "id": "28ed30ed",
      "execution_count": 13,
      "outputs": [
        {
          "output_type": "stream",
          "text": [
            "Training set:  (549, 30)\n",
            "Test set:  (20, 30)\n"
          ],
          "name": "stdout"
        }
      ]
    },
    {
      "cell_type": "markdown",
      "metadata": {
        "id": "aKZQW4T-QF7k"
      },
      "source": [
        "## 3. PCA Dimension Reduction"
      ],
      "id": "aKZQW4T-QF7k"
    },
    {
      "cell_type": "code",
      "metadata": {
        "id": "10k62cUWQNG7"
      },
      "source": [
        "# Global variables and parameters\n",
        "n_components = 4 # num of principal components\n",
        "variance = 0.95 # min percentage of variance that needs to be explained "
      ],
      "id": "10k62cUWQNG7",
      "execution_count": 14,
      "outputs": []
    },
    {
      "cell_type": "code",
      "metadata": {
        "id": "kmayFAmQc52J"
      },
      "source": [
        "from sklearn.preprocessing import StandardScaler\n",
        "from sklearn.decomposition import PCA\n",
        "\n",
        "# Standardize features\n",
        "cancer_x = StandardScaler().fit_transform(cancer_x)\n",
        "# std_df = pd.DataFrame(cancer_x, columns = cancer.feature_names)\n",
        "# std_df"
      ],
      "id": "kmayFAmQc52J",
      "execution_count": 15,
      "outputs": []
    },
    {
      "cell_type": "code",
      "metadata": {
        "colab": {
          "base_uri": "https://localhost:8080/"
        },
        "id": "_UKcF0oUc6mn",
        "outputId": "727b4b50-d120-4389-894a-b823fa80fc3d"
      },
      "source": [
        "# Apply PCA\n",
        "cancer_pca = PCA(n_components) \n",
        "cancer_pca_scaled = cancer_pca.fit_transform(cancer_x)\n",
        "print(\"Shape of scaled and 'PCA'ed features: \", np.shape(cancer_pca_scaled))"
      ],
      "id": "_UKcF0oUc6mn",
      "execution_count": 16,
      "outputs": [
        {
          "output_type": "stream",
          "text": [
            "Shape of scaled and 'PCA'ed features:  (569, 4)\n"
          ],
          "name": "stdout"
        }
      ]
    },
    {
      "cell_type": "code",
      "metadata": {
        "colab": {
          "base_uri": "https://localhost:8080/"
        },
        "id": "jlfniNscc-kJ",
        "outputId": "923d1b26-86de-486f-d11d-38c0fae496bd"
      },
      "source": [
        "# Find variance of principal components\n",
        "feat_var = np.var(cancer_pca_scaled, axis=0)\n",
        "feat_var_rat = feat_var/np.sum(feat_var)\n",
        "\n",
        "print(f\"Variance Ratio of {n_components} PCA:\\t\", feat_var_rat)\n",
        "print(f\"Accumulated Variance Ratio:\\t\", np.cumsum(feat_var_rat))"
      ],
      "id": "jlfniNscc-kJ",
      "execution_count": 17,
      "outputs": [
        {
          "output_type": "stream",
          "text": [
            "Variance Ratio of 4 PCA:\t [0.55871858 0.23941873 0.11854291 0.08331978]\n",
            "Accumulated Variance Ratio:\t [0.55871858 0.79813731 0.91668022 1.        ]\n"
          ],
          "name": "stdout"
        }
      ]
    },
    {
      "cell_type": "code",
      "metadata": {
        "colab": {
          "base_uri": "https://localhost:8080/",
          "height": 464
        },
        "id": "ePcP2HD9dlFi",
        "outputId": "da85c016-dc9d-4195-d00b-9695737201c0"
      },
      "source": [
        "# Plot components to see how separated samples are\n",
        "#print (type(cancer.target))\n",
        "cancer_target_list = cancer_y.tolist()\n",
        "print (type(cancer_target_list))\n",
        "#print (cancer_target_list)\n",
        "#print (type(yl))\n",
        "feature_scaled_pca_X0 = cancer_pca_scaled[:, 0]\n",
        "feature_scaled_pca_X1 = cancer_pca_scaled[:, 1]\n",
        "feature_scaled_pca_X2 = cancer_pca_scaled[:, 2]\n",
        "feature_scaled_pca_X3 = cancer_pca_scaled[:, 3]\n",
        "\n",
        "labels = cancer_target_list\n",
        "colordict = {0:'brown', 1:'darkslategray'}\n",
        "piclabel = {0:'Malignant', 1:'Benign'}\n",
        "markers = {0:'o', 1:'*'}\n",
        "alphas = {0:0.3, 1:0.4}\n",
        "\n",
        "fig = plt.figure(figsize=(12, 7))\n",
        "plt.subplot(1,2,1)\n",
        "for l in np.unique(labels):\n",
        "    ix = np.where(labels==l)\n",
        "    plt.scatter(feature_scaled_pca_X0[ix], feature_scaled_pca_X1[ix], c=colordict[l], \n",
        "               label=piclabel[l], s=40, marker=markers[l], alpha=alphas[l])\n",
        "plt.xlabel(\"First Principal Component\", fontsize=15)\n",
        "plt.ylabel(\"Second Principal Component\", fontsize=15)\n",
        "\n",
        "plt.legend(fontsize=15)\n",
        "\n",
        "plt.subplot(1,2,2)\n",
        "for l1 in np.unique(labels):\n",
        "    ix1 = np.where(labels==l1)\n",
        "    plt.scatter(feature_scaled_pca_X2[ix1], feature_scaled_pca_X3[ix1], c=colordict[l1], \n",
        "               label=piclabel[l1], s=40, marker=markers[l1], alpha=alphas[l1])\n",
        "plt.xlabel(\"Third Principal Component\", fontsize=15)\n",
        "plt.ylabel(\"Fourth Principal Component\", fontsize=15)\n",
        "\n",
        "plt.legend(fontsize=15)\n",
        "\n",
        "plt.savefig('Cancer_labels_PCAs.png', dpi=200)\n",
        "plt.show()"
      ],
      "id": "ePcP2HD9dlFi",
      "execution_count": 18,
      "outputs": [
        {
          "output_type": "stream",
          "text": [
            "<class 'list'>\n"
          ],
          "name": "stdout"
        },
        {
          "output_type": "display_data",
          "data": {
            "image/png": "[encoded data removed]",
            "text/plain": [
              "<Figure size 864x504 with 2 Axes>"
            ]
          },
          "metadata": {
            "tags": [],
            "needs_background": "light"
          }
        }
      ]
    },
    {
      "cell_type": "markdown",
      "metadata": {
        "id": "LZHvZkKqdxJx"
      },
      "source": [
        "First and Second principal components play more significant roles in classifying Malignant/Benign samples"
      ],
      "id": "LZHvZkKqdxJx"
    },
    {
      "cell_type": "markdown",
      "metadata": {
        "id": "iCQt9SiuQOE8"
      },
      "source": [
        "## 4. Support Vector Machine (SVM) "
      ],
      "id": "iCQt9SiuQOE8"
    },
    {
      "cell_type": "code",
      "metadata": {
        "id": "-GHDsymWQVZ9"
      },
      "source": [
        "# TODO"
      ],
      "id": "-GHDsymWQVZ9",
      "execution_count": null,
      "outputs": []
    },
    {
      "cell_type": "markdown",
      "metadata": {
        "id": "RV1mvuDrQh_6"
      },
      "source": [
        "## 5. SVM Hyperparameter Tuning"
      ],
      "id": "RV1mvuDrQh_6"
    },
    {
      "cell_type": "code",
      "metadata": {
        "id": "kaUx8OhLQmc2"
      },
      "source": [
        "# TODO"
      ],
      "id": "kaUx8OhLQmc2",
      "execution_count": null,
      "outputs": []
    },
    {
      "cell_type": "markdown",
      "metadata": {
        "id": "ompZM266QnHz"
      },
      "source": [
        "## 6. One-class SVM"
      ],
      "id": "ompZM266QnHz"
    },
    {
      "cell_type": "code",
      "metadata": {
        "id": "Gb0LlNR7QqAW"
      },
      "source": [
        "# TODO"
      ],
      "id": "Gb0LlNR7QqAW",
      "execution_count": null,
      "outputs": []
    }
  ]
}