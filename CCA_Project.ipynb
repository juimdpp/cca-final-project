{
  "nbformat": 4,
  "nbformat_minor": 5,
  "metadata": {
    "kernelspec": {
      "display_name": "Python 3",
      "language": "python",
      "name": "python3"
    },
    "language_info": {
      "codemirror_mode": {
        "name": "ipython",
        "version": 3
      },
      "file_extension": ".py",
      "mimetype": "text/x-python",
      "name": "python",
      "nbconvert_exporter": "python",
      "pygments_lexer": "ipython3",
      "version": "3.9.4"
    },
    "colab": {
      "name": "CCA Project.ipynb",
      "provenance": [],
      "include_colab_link": true
    }
  },
  "cells": [
    {
      "cell_type": "markdown",
      "metadata": {
        "id": "view-in-github",
        "colab_type": "text"
      },
      "source": [
        "<a href=\"https://colab.research.google.com/github/juimdpp/cca-final-project/blob/main/CCA_Project.ipynb\" target=\"_parent\"><img src=\"https://colab.research.google.com/assets/colab-badge.svg\" alt=\"Open In Colab\"/></a>"
      ]
    },
    {
      "cell_type": "markdown",
      "metadata": {
        "id": "1932f228"
      },
      "source": [
        "# CCA Project: Topic 1"
      ],
      "id": "1932f228"
    },
    {
      "cell_type": "markdown",
      "metadata": {
        "id": "e5270eaf"
      },
      "source": [
        "## 1. Load Datasets"
      ],
      "id": "e5270eaf"
    },
    {
      "cell_type": "code",
      "metadata": {
        "id": "804e0cf4"
      },
      "source": [
        "import pandas as pd\n",
        "import matplotlib.pyplot as plt\n",
        "import numpy as np\n",
        "from sklearn import datasets, linear_model\n",
        "from sklearn.metrics import mean_squared_error, r2_score\n",
        "\n",
        "# Load breast cancer datasets\n",
        "cancer = datasets.load_breast_cancer()"
      ],
      "id": "804e0cf4",
      "execution_count": null,
      "outputs": []
    },
    {
      "cell_type": "code",
      "metadata": {
        "id": "be344be9"
      },
      "source": [
        "cancer"
      ],
      "id": "be344be9",
      "execution_count": null,
      "outputs": []
    },
    {
      "cell_type": "code",
      "metadata": {
        "id": "8e645310"
      },
      "source": [
        "df = pd.DataFrame(cancer.data, columns = cancer.feature_names)\n",
        "print(\"No. of samples:\", len(cancer.data), \"\\tNo. of features:\", len(cancer.feature_names))\n",
        "df"
      ],
      "id": "8e645310",
      "execution_count": null,
      "outputs": []
    },
    {
      "cell_type": "markdown",
      "metadata": {
        "id": "2e44e6d4"
      },
      "source": [
        "## 2. Split Data into Training Sets"
      ],
      "id": "2e44e6d4"
    },
    {
      "cell_type": "markdown",
      "metadata": {
        "id": "1b217705"
      },
      "source": [
        "### Regression with All Features"
      ],
      "id": "1b217705"
    },
    {
      "cell_type": "code",
      "metadata": {
        "id": "28ed30ed"
      },
      "source": [
        "cancer_x = cancer.data\n",
        "cancer_y = cancer.target\n",
        "\n",
        "# split data into training sets\n",
        "cancer_x_train = cancer_x[:-20]\n",
        "cancer_y_train = cancer_y[:-20]\n",
        "\n",
        "# use last 20 samples as test sets \n",
        "cancer_x_test = cancer_x[-20:]\n",
        "cancer_y_test = cancer_y[-20:]\n"
      ],
      "id": "28ed30ed",
      "execution_count": null,
      "outputs": []
    },
    {
      "cell_type": "code",
      "metadata": {
        "id": "22281f7c"
      },
      "source": [
        ""
      ],
      "id": "22281f7c",
      "execution_count": null,
      "outputs": []
    }
  ]
}